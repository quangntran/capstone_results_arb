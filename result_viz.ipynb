{
 "cells": [
  {
   "cell_type": "code",
   "execution_count": null,
   "metadata": {},
   "outputs": [],
   "source": [
    "import matplotlib.pyplot as plt\n",
    "import csv\n",
    "import pandas as pd \n",
    "import pickle\n",
    "import math\n",
    "import IPython.display as ipd\n",
    "import IPython\n",
    "import os \n",
    "import numpy as np\n",
    "import os.path\n",
    "import librosa\n",
    "\n",
    "from util import *\n",
    "from data_generate import *\n",
    "from display import *"
   ]
  },
  {
   "cell_type": "markdown",
   "metadata": {},
   "source": [
    "# 4-data-point dataset audio samples"
   ]
  },
  {
   "cell_type": "code",
   "execution_count": null,
   "metadata": {
    "scrolled": false
   },
   "outputs": [],
   "source": [
    "# def play_4dat_audio(path_to_pickle_file):\n",
    "#     with open(path_to_pickle_file, 'rb') as f:\n",
    "#         x = pickle.load(f)\n",
    "\n",
    "#     for sample in x:\n",
    "#         A_name = sample['A'] # 'piano_piano_0.wav_5'\n",
    "#         B_name = sample['B']\n",
    "#         instrumentA = 'piano' if 'piano' in A_name else 'flute'\n",
    "#         instrumentB = 'piano' if 'piano' in B_name else 'flute'\n",
    "\n",
    "#         path_to_source_audio = './small_data_set/'\n",
    "\n",
    "#         mag_A = np.load(path_to_source_audio+f'{instrumentA}/mag/'+A_name+'.npy')\n",
    "#         phase_A = np.load(path_to_source_audio+f'{instrumentA}/phase/'+A_name+'.npy')\n",
    "#         arr_A = build_audio(mag_A, phase_A)\n",
    "#         mag_B = np.load(path_to_source_audio+f'{instrumentB}/mag/'+B_name+'.npy')\n",
    "#         phase_B = np.load(path_to_source_audio+f'{instrumentB}/phase/'+B_name+'.npy')\n",
    "#         arr_B = build_audio(mag_B, phase_B)\n",
    "        \n",
    "#         print('*'*20)\n",
    "#         print(f'A: {instrumentA}, B: {instrumentB}')\n",
    "        \n",
    "#         play_sample(arr_A)\n",
    "#         play_sample(arr_B)\n",
    "#         play_sample(sample['arr'])\n",
    "# Experiment 17    \n",
    "play_4dat_audio('./4dat/audio_samples/exp17_epoch900.pkl')  "
   ]
  },
  {
   "cell_type": "markdown",
   "metadata": {},
   "source": [
    "#### Experiment 41"
   ]
  },
  {
   "cell_type": "markdown",
   "metadata": {},
   "source": [
    "play_4dat_audio('./4dat/audio_samples/exp41_epoch900.pkl')  "
   ]
  },
  {
   "cell_type": "markdown",
   "metadata": {},
   "source": [
    "# 2INST Dataset\n",
    "## Audio evaluation\n"
   ]
  },
  {
   "cell_type": "markdown",
   "metadata": {},
   "source": [
    "Below we present the generated audio of the 8 experiments. In each experiments, the following are presented:\n",
    "* Audio samples after the first epoch\n",
    "* Audio samples at an epoch where the generator and discriminator losses are lowest\n",
    "* Audio samples at an epoch where the generator and discriminator losses are highest"
   ]
  },
  {
   "cell_type": "markdown",
   "metadata": {},
   "source": [
    "## Experiment 1"
   ]
  },
  {
   "cell_type": "code",
   "execution_count": null,
   "metadata": {
    "scrolled": true
   },
   "outputs": [],
   "source": [
    "show_exp('./fulldat/audio_samples/exp1/', 26, 20)"
   ]
  },
  {
   "cell_type": "markdown",
   "metadata": {},
   "source": [
    "# Experiment 2"
   ]
  },
  {
   "cell_type": "code",
   "execution_count": null,
   "metadata": {},
   "outputs": [],
   "source": [
    "show_exp('./fulldat/audio_samples/exp2/', 29, 14)"
   ]
  },
  {
   "cell_type": "markdown",
   "metadata": {},
   "source": [
    "## Experiment 3 "
   ]
  },
  {
   "cell_type": "code",
   "execution_count": null,
   "metadata": {},
   "outputs": [],
   "source": [
    "show_exp('./fulldat/audio_samples/exp3/', 9, 26)"
   ]
  },
  {
   "cell_type": "markdown",
   "metadata": {},
   "source": [
    "## Experiment 4"
   ]
  },
  {
   "cell_type": "code",
   "execution_count": null,
   "metadata": {},
   "outputs": [],
   "source": [
    "show_exp('./fulldat/audio_samples/exp4/', 27, 19)"
   ]
  },
  {
   "cell_type": "markdown",
   "metadata": {},
   "source": [
    "## Experiment 5"
   ]
  },
  {
   "cell_type": "code",
   "execution_count": null,
   "metadata": {},
   "outputs": [],
   "source": [
    "show_exp('./fulldat/audio_samples/exp5/', 18, 17)"
   ]
  },
  {
   "cell_type": "markdown",
   "metadata": {},
   "source": [
    "## Experiment 6"
   ]
  },
  {
   "cell_type": "code",
   "execution_count": null,
   "metadata": {},
   "outputs": [],
   "source": [
    "show_exp('./fulldat/audio_samples/exp6/', 15, 17)"
   ]
  },
  {
   "cell_type": "markdown",
   "metadata": {},
   "source": [
    "## Experiment 7"
   ]
  },
  {
   "cell_type": "code",
   "execution_count": null,
   "metadata": {},
   "outputs": [],
   "source": [
    "show_exp('./fulldat/audio_samples/exp7/', 15, 23)"
   ]
  },
  {
   "cell_type": "markdown",
   "metadata": {},
   "source": [
    "## Experiment 8"
   ]
  },
  {
   "cell_type": "code",
   "execution_count": null,
   "metadata": {},
   "outputs": [],
   "source": [
    "show_exp('./fulldat/audio_samples/exp8/', 25, 27)"
   ]
  },
  {
   "cell_type": "markdown",
   "metadata": {},
   "source": [
    "# 4-data-point dataset with data indexed 4 and 8 in training data set and 158, 160 in testing\n"
   ]
  },
  {
   "cell_type": "markdown",
   "metadata": {},
   "source": [
    "## Experiment 17\n",
    "(https://www.kaggle.com/quangt/4dat-17-with-4-and-8-datapoints/output)\n",
    "\n",
    "### Plot losses\n"
   ]
  },
  {
   "cell_type": "code",
   "execution_count": null,
   "metadata": {},
   "outputs": [],
   "source": [
    "filename = f\"./4dat_4_8/log17.csv\"\n",
    "df = pd.read_csv(filename) \n",
    "linestyle = ['-', '--']\n",
    "color = ['black', 'grey']\n",
    "combo_style = []\n",
    "for l in linestyle:\n",
    "    for c in color:\n",
    "        combo_style.append((l,c))\n",
    "        \n",
    "for i, col in enumerate(df.columns[1:]):\n",
    "    \n",
    "    plt.plot(df[col], label=f'{col}', linestyle=combo_style[i][0], color=combo_style[i][1])\n",
    "#     plt.title(f'Experiment {exp_code}')\n",
    "plt.legend()\n",
    "plt.xlabel('epoch')"
   ]
  },
  {
   "cell_type": "code",
   "execution_count": null,
   "metadata": {},
   "outputs": [],
   "source": [
    "play_4dat_audio('./4dat_4_8/audio_samples/exp17_train_epoch900.pkl')  "
   ]
  },
  {
   "cell_type": "markdown",
   "metadata": {},
   "source": [
    "# Before fixing "
   ]
  },
  {
   "cell_type": "code",
   "execution_count": null,
   "metadata": {},
   "outputs": [],
   "source": [
    "filename = f\"./beforefix/log.csv\"\n",
    "df = pd.read_csv(filename) \n",
    "# Preview the first 5 lines of the loaded data \n",
    "linestyle = ['-', '--']\n",
    "color = ['black', 'grey']\n",
    "combo_style = []\n",
    "for l in linestyle:\n",
    "    for c in color:\n",
    "        combo_style.append((l,c))\n",
    "combo_style.append(('-.', 'black'))\n",
    "plt.figure(figsize=(15,8))   \n",
    "for i, col in enumerate(df.columns[1:]):\n",
    "\n",
    "    plt.plot(df[col], label=f'{col}', linestyle=combo_style[i][0], color=combo_style[i][1])\n",
    "plt.legend()\n",
    "plt.xlabel('Epoch')\n",
    "plt.show()\n",
    "plt.savefig('beforefix.png')"
   ]
  },
  {
   "cell_type": "markdown",
   "metadata": {},
   "source": [
    "## Audio samples of before fix"
   ]
  },
  {
   "cell_type": "code",
   "execution_count": null,
   "metadata": {},
   "outputs": [],
   "source": []
  },
  {
   "cell_type": "code",
   "execution_count": null,
   "metadata": {},
   "outputs": [],
   "source": [
    "print('Flute to flute')\n",
    "play_sample(np.load('./beforefix/flute_flute_0.wav_3_flute_flute_0.wav_4.npy'))"
   ]
  },
  {
   "cell_type": "code",
   "execution_count": null,
   "metadata": {},
   "outputs": [],
   "source": [
    "print('Piano to piano')\n",
    "play_sample(np.load('./beforefix/piano_piano_0.wav_5_piano_piano_0.wav_6.npy'))"
   ]
  },
  {
   "cell_type": "code",
   "execution_count": null,
   "metadata": {},
   "outputs": [],
   "source": [
    "print('Piano to flute')\n",
    "play_sample(np.load('./beforefix/piano_piano_0.wav_3_flute_flute_0.wav_3.npy'))"
   ]
  },
  {
   "cell_type": "markdown",
   "metadata": {},
   "source": [
    "\n",
    "\n",
    "## Visualization"
   ]
  },
  {
   "cell_type": "code",
   "execution_count": null,
   "metadata": {
    "scrolled": false
   },
   "outputs": [],
   "source": [
    "import pandas as pd \n",
    "fig, ax = plt.subplots(4, 2,   figsize=(20, 30))\n",
    "\n",
    "setting_match = []\n",
    "for classi in [5, 10]:\n",
    "    for cycle in [5,10]:\n",
    "        for ide in [5, 10]:\n",
    "            setting_match.append((classi, cycle, ide))\n",
    "\n",
    "for exp_code in range(1,9):\n",
    "\n",
    "    filename = f\"./fulldat/fulldat_log{exp_code}.csv\"\n",
    "    df = pd.read_csv(filename) \n",
    "    # Preview the first 5 lines of the loaded data \n",
    "    linestyle = ['-', '--']\n",
    "    color = ['black', 'grey']\n",
    "    combo_style = []\n",
    "    for l in linestyle:\n",
    "        for c in color:\n",
    "            combo_style.append((l,c))\n",
    "    m, n = (exp_code-1)//2, (exp_code-1)%2\n",
    "#     ax[m,n].plot(range(5), range(5))\n",
    "    ax[m,n].set_title('Experiment %d \\n $\\lambda_{cl}=%d, \\lambda_{cycle}=%d, \\lambda_{id}=%d$'%(exp_code, *setting_match[exp_code-1]),\n",
    "                      fontsize=20)\n",
    "#     print(ax[m,n].title)\n",
    "    for i, col in enumerate(df.columns[1:]):\n",
    "    \n",
    "        ax[m,n].plot(df[col], label=f'{col}', linestyle=combo_style[i][0], color=combo_style[i][1])\n",
    "#     plt.title(f'Experiment {exp_code}')\n",
    "#     plt.legend()\n",
    "fig.savefig('fsd')"
   ]
  },
  {
   "cell_type": "markdown",
   "metadata": {},
   "source": [
    "Because some flute examples above contain only silences, we conduct the same experiment setting, this time with better data points. We can see  below that the losses are \"better\". "
   ]
  },
  {
   "cell_type": "code",
   "execution_count": null,
   "metadata": {},
   "outputs": [],
   "source": [
    "filename = f\"./4dat_4_8/_train_log.csv\"\n",
    "df = pd.read_csv(filename) \n",
    "linestyle = ['-', '--']\n",
    "color = ['black', 'grey']\n",
    "combo_style = []\n",
    "for l in linestyle:\n",
    "    for c in color:\n",
    "        combo_style.append((l,c))\n",
    "        \n",
    "for i, col in enumerate(df.columns[1:]):\n",
    "    \n",
    "    plt.plot(df[col], label=f'{col}', linestyle=combo_style[i][0], color=combo_style[i][1])\n",
    "#     plt.title(f'Experiment {exp_code}')\n",
    "plt.legend()\n",
    "plt.xlabel('epoch')"
   ]
  },
  {
   "cell_type": "code",
   "execution_count": null,
   "metadata": {},
   "outputs": [],
   "source": [
    "play_4dat_audio('./4dat_4_8/audio_samples/exp17_test2_epoch900.pkl')  "
   ]
  },
  {
   "cell_type": "code",
   "execution_count": null,
   "metadata": {},
   "outputs": [],
   "source": [
    "plt.plot(range(4))\n",
    "plt.title('fsd')"
   ]
  },
  {
   "cell_type": "code",
   "execution_count": null,
   "metadata": {},
   "outputs": [],
   "source": [
    "plt.title"
   ]
  },
  {
   "cell_type": "code",
   "execution_count": null,
   "metadata": {},
   "outputs": [],
   "source": []
  }
 ],
 "metadata": {
  "kernelspec": {
   "display_name": "Python 3",
   "language": "python",
   "name": "python3"
  },
  "language_info": {
   "codemirror_mode": {
    "name": "ipython",
    "version": 3
   },
   "file_extension": ".py",
   "mimetype": "text/x-python",
   "name": "python",
   "nbconvert_exporter": "python",
   "pygments_lexer": "ipython3",
   "version": "3.6.5"
  }
 },
 "nbformat": 4,
 "nbformat_minor": 2
}
