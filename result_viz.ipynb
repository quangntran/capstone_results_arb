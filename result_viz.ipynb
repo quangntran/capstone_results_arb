{
 "cells": [
  {
   "cell_type": "code",
   "execution_count": null,
   "metadata": {},
   "outputs": [],
   "source": [
    "import matplotlib.pyplot as plt\n",
    "import csv\n",
    "import pandas as pd \n",
    "import pickle\n",
    "import math\n",
    "import IPython.display as ipd\n",
    "import IPython\n",
    "import os \n",
    "import numpy as np\n",
    "import os.path\n",
    "import librosa\n",
    "\n",
    "from util import *\n",
    "from data_generate import *\n",
    "from display import *"
   ]
  },
  {
   "cell_type": "markdown",
   "metadata": {},
   "source": [
    "# 4DATAPOINT dataset audio samples"
   ]
  },
  {
   "cell_type": "code",
   "execution_count": null,
   "metadata": {
    "scrolled": false
   },
   "outputs": [],
   "source": [
    "# Experiment 17    \n",
    "('./4dat/audio_samples/exp17_epoch900.pkl')  "
   ]
  },
  {
   "cell_type": "code",
   "execution_count": null,
   "metadata": {},
   "outputs": [],
   "source": [
    "# Experiment 41    \n",
    "play_4dat_audio('./4dat/audio_samples/exp41_epoch900.pkl') "
   ]
  },
  {
   "cell_type": "markdown",
   "metadata": {},
   "source": [
    "# 2INST Dataset\n",
    "\n",
    "## Audio evaluation\n"
   ]
  },
  {
   "cell_type": "markdown",
   "metadata": {},
   "source": [
    "Below we present the generated audio of the 8 experiments. In each experiments, the following are presented:\n",
    "* Audio samples after the first epoch\n",
    "* Audio samples at an epoch where the generator and discriminator losses are lowest\n",
    "* Audio samples at an epoch where the generator and discriminator losses are highest"
   ]
  },
  {
   "cell_type": "markdown",
   "metadata": {},
   "source": [
    "## Experiment 1"
   ]
  },
  {
   "cell_type": "code",
   "execution_count": null,
   "metadata": {
    "scrolled": true
   },
   "outputs": [],
   "source": [
    "show_exp('./fulldat/audio_samples/exp1/', 26, 20)"
   ]
  },
  {
   "cell_type": "markdown",
   "metadata": {},
   "source": [
    "# Experiment 2"
   ]
  },
  {
   "cell_type": "code",
   "execution_count": null,
   "metadata": {},
   "outputs": [],
   "source": [
    "show_exp('./fulldat/audio_samples/exp2/', 29, 14)"
   ]
  },
  {
   "cell_type": "markdown",
   "metadata": {},
   "source": [
    "## Experiment 3 "
   ]
  },
  {
   "cell_type": "code",
   "execution_count": null,
   "metadata": {},
   "outputs": [],
   "source": [
    "show_exp('./fulldat/audio_samples/exp3/', 9, 26)"
   ]
  },
  {
   "cell_type": "markdown",
   "metadata": {},
   "source": [
    "## Experiment 4"
   ]
  },
  {
   "cell_type": "code",
   "execution_count": null,
   "metadata": {},
   "outputs": [],
   "source": [
    "show_exp('./fulldat/audio_samples/exp4/', 27, 19)"
   ]
  },
  {
   "cell_type": "markdown",
   "metadata": {},
   "source": [
    "## Experiment 5"
   ]
  },
  {
   "cell_type": "code",
   "execution_count": null,
   "metadata": {},
   "outputs": [],
   "source": [
    "show_exp('./fulldat/audio_samples/exp5/', 18, 17)"
   ]
  },
  {
   "cell_type": "markdown",
   "metadata": {},
   "source": [
    "## Experiment 6"
   ]
  },
  {
   "cell_type": "code",
   "execution_count": null,
   "metadata": {},
   "outputs": [],
   "source": [
    "show_exp('./fulldat/audio_samples/exp6/', 15, 17)"
   ]
  },
  {
   "cell_type": "markdown",
   "metadata": {},
   "source": [
    "## Experiment 7"
   ]
  },
  {
   "cell_type": "code",
   "execution_count": null,
   "metadata": {},
   "outputs": [],
   "source": [
    "show_exp('./fulldat/audio_samples/exp7/', 15, 23)"
   ]
  },
  {
   "cell_type": "markdown",
   "metadata": {},
   "source": [
    "## Experiment 8"
   ]
  },
  {
   "cell_type": "code",
   "execution_count": null,
   "metadata": {},
   "outputs": [],
   "source": [
    "show_exp('./fulldat/audio_samples/exp8/', 25, 27)"
   ]
  },
  {
   "cell_type": "markdown",
   "metadata": {},
   "source": [
    "# Before fixing "
   ]
  },
  {
   "cell_type": "code",
   "execution_count": null,
   "metadata": {},
   "outputs": [],
   "source": [
    "filename = f\"./beforefix/log.csv\"\n",
    "df = pd.read_csv(filename) \n",
    "# Preview the first 5 lines of the loaded data \n",
    "linestyle = ['-', '--']\n",
    "color = ['black', 'grey']\n",
    "combo_style = []\n",
    "for l in linestyle:\n",
    "    for c in color:\n",
    "        combo_style.append((l,c))\n",
    "combo_style.append(('-.', 'black'))\n",
    "plt.figure(figsize=(15,8))   \n",
    "for i, col in enumerate(df.columns[1:]):\n",
    "\n",
    "    plt.plot(df[col], label=f'{col}', linestyle=combo_style[i][0], color=combo_style[i][1])\n",
    "plt.legend()\n",
    "plt.xlabel('Epoch')\n",
    "plt.show()\n",
    "plt.savefig('beforefix.png')"
   ]
  },
  {
   "cell_type": "markdown",
   "metadata": {},
   "source": [
    "## Audio samples of before fix\n",
    "\n",
    "Samples after 30 epochs"
   ]
  },
  {
   "cell_type": "code",
   "execution_count": null,
   "metadata": {},
   "outputs": [],
   "source": [
    "print('Flute to flute')\n",
    "play_sample(np.load('./beforefix/flute_flute_0.wav_3_flute_flute_0.wav_4.npy'))"
   ]
  },
  {
   "cell_type": "code",
   "execution_count": null,
   "metadata": {},
   "outputs": [],
   "source": [
    "print('Piano to piano')\n",
    "play_sample(np.load('./beforefix/piano_piano_0.wav_5_piano_piano_0.wav_6.npy'))"
   ]
  },
  {
   "cell_type": "code",
   "execution_count": null,
   "metadata": {},
   "outputs": [],
   "source": [
    "print('Piano to flute')\n",
    "play_sample(np.load('./beforefix/piano_piano_0.wav_3_flute_flute_0.wav_3.npy'))"
   ]
  }
 ],
 "metadata": {
  "kernelspec": {
   "display_name": "Python 3",
   "language": "python",
   "name": "python3"
  },
  "language_info": {
   "codemirror_mode": {
    "name": "ipython",
    "version": 3
   },
   "file_extension": ".py",
   "mimetype": "text/x-python",
   "name": "python",
   "nbconvert_exporter": "python",
   "pygments_lexer": "ipython3",
   "version": "3.6.5"
  }
 },
 "nbformat": 4,
 "nbformat_minor": 2
}
